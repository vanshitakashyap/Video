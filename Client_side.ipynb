import socket 
import threading
import cv2
import numpy as np

sckt= socket.socket()
sckt.bind(("",8081))

sender_ip=input("Enter the Sender Ip : ")
sender_port=int(input("Enter the Sender port : "))
sckt.connect((sender_ip,sender_port))
cameraIndex = 0
camera = cv2.VideoCapture(cameraIndex)


def receiver():
            frames_error = 0
            print("Entered")
            while True:
                frames += 1
                data = sckt.recv(10000000000)
                if(data == b'finished'):
                    print("Finished")
                    camera.release()
                    sckt.close()
                else:  
                   photo =  np.frombuffedata,r( dtype=np.uint8)
                   if len(photo) == 640*480*3: 
                      cv2.imshow('From Server', photo.reshape(480, 640, 3))
                      if cv2.waitKey(1) == 13: 
                        sckt.send(b'finished')
                        camera.release()
                        cv2.destroyAllWindows()
                        break
                   else:
                       print("Unavailable  {} frames".format(frames_error) )
 


def sender():
    while True: 
        status, photo = camera.read()
        photo = cv2.resize(photo, (640, 480))
        #photo = cv2.resize(photo, (600, 500))
        print(photo.shape)
        if status:
            sckt.send(np.ndarray.tobytes(photo))
        else:
          print("Not in frame")
    camera.release()


threading.Thread(target=receiver).start()
threading.Thread(target=sender).start()
